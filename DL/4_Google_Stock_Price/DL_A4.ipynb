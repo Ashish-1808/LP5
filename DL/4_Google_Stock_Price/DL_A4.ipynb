{
 "cells": [
  {
   "cell_type": "markdown",
   "id": "5ec6d6ef-42a2-4f3b-b003-7116015487b4",
   "metadata": {
    "id": "5ec6d6ef-42a2-4f3b-b003-7116015487b4"
   },
   "source": [
    "Name -Ashish Ramesh Walke || RollNo.- 4272 ||  Batch-B8"
   ]
  },
  {
   "cell_type": "markdown",
   "id": "9e3c1d56-4e43-475e-953a-4ea17ebc185e",
   "metadata": {
    "id": "9e3c1d56-4e43-475e-953a-4ea17ebc185e"
   },
   "source": [
    "**Assignment No 4:** : Recurrent neural network (RNN) - Use the Google stock prices dataset and\n",
    "design a time series analysis and prediction system using RNN.\n"
   ]
  },
  {
   "cell_type": "code",
   "execution_count": 1,
   "id": "48528876-2e0e-48c5-b260-a20375c86b08",
   "metadata": {
    "id": "48528876-2e0e-48c5-b260-a20375c86b08"
   },
   "outputs": [],
   "source": [
    "import pandas as pd\n",
    "import numpy as np"
   ]
  },
  {
   "cell_type": "code",
   "execution_count": 2,
   "id": "22b20b67-ea05-415d-9d9c-1fe6f960acef",
   "metadata": {
    "id": "22b20b67-ea05-415d-9d9c-1fe6f960acef"
   },
   "outputs": [],
   "source": [
    "train_df = pd.read_csv(r'Google_Stock_Price_Train.csv') #Path where the CSV file is stored.\n"
   ]
  },
  {
   "cell_type": "code",
   "execution_count": 3,
   "id": "e8a95266-6461-4c92-9fb1-8d61762bfcec",
   "metadata": {
    "colab": {
     "base_uri": "https://localhost:8080/",
     "height": 424
    },
    "id": "e8a95266-6461-4c92-9fb1-8d61762bfcec",
    "outputId": "5a2f9a3a-f404-4454-e746-dbb4e3d2e5a1"
   },
   "outputs": [
    {
     "data": {
      "text/html": [
       "<div>\n",
       "<style scoped>\n",
       "    .dataframe tbody tr th:only-of-type {\n",
       "        vertical-align: middle;\n",
       "    }\n",
       "\n",
       "    .dataframe tbody tr th {\n",
       "        vertical-align: top;\n",
       "    }\n",
       "\n",
       "    .dataframe thead th {\n",
       "        text-align: right;\n",
       "    }\n",
       "</style>\n",
       "<table border=\"1\" class=\"dataframe\">\n",
       "  <thead>\n",
       "    <tr style=\"text-align: right;\">\n",
       "      <th></th>\n",
       "      <th>Date</th>\n",
       "      <th>Open</th>\n",
       "      <th>High</th>\n",
       "      <th>Low</th>\n",
       "      <th>Close</th>\n",
       "      <th>Volume</th>\n",
       "    </tr>\n",
       "  </thead>\n",
       "  <tbody>\n",
       "    <tr>\n",
       "      <th>0</th>\n",
       "      <td>1/3/2012</td>\n",
       "      <td>325.25</td>\n",
       "      <td>332.83</td>\n",
       "      <td>324.97</td>\n",
       "      <td>663.59</td>\n",
       "      <td>7,380,500</td>\n",
       "    </tr>\n",
       "    <tr>\n",
       "      <th>1</th>\n",
       "      <td>1/4/2012</td>\n",
       "      <td>331.27</td>\n",
       "      <td>333.87</td>\n",
       "      <td>329.08</td>\n",
       "      <td>666.45</td>\n",
       "      <td>5,749,400</td>\n",
       "    </tr>\n",
       "    <tr>\n",
       "      <th>2</th>\n",
       "      <td>1/5/2012</td>\n",
       "      <td>329.83</td>\n",
       "      <td>330.75</td>\n",
       "      <td>326.89</td>\n",
       "      <td>657.21</td>\n",
       "      <td>6,590,300</td>\n",
       "    </tr>\n",
       "    <tr>\n",
       "      <th>3</th>\n",
       "      <td>1/6/2012</td>\n",
       "      <td>328.34</td>\n",
       "      <td>328.77</td>\n",
       "      <td>323.68</td>\n",
       "      <td>648.24</td>\n",
       "      <td>5,405,900</td>\n",
       "    </tr>\n",
       "    <tr>\n",
       "      <th>4</th>\n",
       "      <td>1/9/2012</td>\n",
       "      <td>322.04</td>\n",
       "      <td>322.29</td>\n",
       "      <td>309.46</td>\n",
       "      <td>620.76</td>\n",
       "      <td>11,688,800</td>\n",
       "    </tr>\n",
       "    <tr>\n",
       "      <th>...</th>\n",
       "      <td>...</td>\n",
       "      <td>...</td>\n",
       "      <td>...</td>\n",
       "      <td>...</td>\n",
       "      <td>...</td>\n",
       "      <td>...</td>\n",
       "    </tr>\n",
       "    <tr>\n",
       "      <th>1253</th>\n",
       "      <td>12/23/2016</td>\n",
       "      <td>790.90</td>\n",
       "      <td>792.74</td>\n",
       "      <td>787.28</td>\n",
       "      <td>789.91</td>\n",
       "      <td>623,400</td>\n",
       "    </tr>\n",
       "    <tr>\n",
       "      <th>1254</th>\n",
       "      <td>12/27/2016</td>\n",
       "      <td>790.68</td>\n",
       "      <td>797.86</td>\n",
       "      <td>787.66</td>\n",
       "      <td>791.55</td>\n",
       "      <td>789,100</td>\n",
       "    </tr>\n",
       "    <tr>\n",
       "      <th>1255</th>\n",
       "      <td>12/28/2016</td>\n",
       "      <td>793.70</td>\n",
       "      <td>794.23</td>\n",
       "      <td>783.20</td>\n",
       "      <td>785.05</td>\n",
       "      <td>1,153,800</td>\n",
       "    </tr>\n",
       "    <tr>\n",
       "      <th>1256</th>\n",
       "      <td>12/29/2016</td>\n",
       "      <td>783.33</td>\n",
       "      <td>785.93</td>\n",
       "      <td>778.92</td>\n",
       "      <td>782.79</td>\n",
       "      <td>744,300</td>\n",
       "    </tr>\n",
       "    <tr>\n",
       "      <th>1257</th>\n",
       "      <td>12/30/2016</td>\n",
       "      <td>782.75</td>\n",
       "      <td>782.78</td>\n",
       "      <td>770.41</td>\n",
       "      <td>771.82</td>\n",
       "      <td>1,770,000</td>\n",
       "    </tr>\n",
       "  </tbody>\n",
       "</table>\n",
       "<p>1258 rows × 6 columns</p>\n",
       "</div>"
      ],
      "text/plain": [
       "            Date    Open    High     Low   Close      Volume\n",
       "0       1/3/2012  325.25  332.83  324.97  663.59   7,380,500\n",
       "1       1/4/2012  331.27  333.87  329.08  666.45   5,749,400\n",
       "2       1/5/2012  329.83  330.75  326.89  657.21   6,590,300\n",
       "3       1/6/2012  328.34  328.77  323.68  648.24   5,405,900\n",
       "4       1/9/2012  322.04  322.29  309.46  620.76  11,688,800\n",
       "...          ...     ...     ...     ...     ...         ...\n",
       "1253  12/23/2016  790.90  792.74  787.28  789.91     623,400\n",
       "1254  12/27/2016  790.68  797.86  787.66  791.55     789,100\n",
       "1255  12/28/2016  793.70  794.23  783.20  785.05   1,153,800\n",
       "1256  12/29/2016  783.33  785.93  778.92  782.79     744,300\n",
       "1257  12/30/2016  782.75  782.78  770.41  771.82   1,770,000\n",
       "\n",
       "[1258 rows x 6 columns]"
      ]
     },
     "execution_count": 3,
     "metadata": {},
     "output_type": "execute_result"
    }
   ],
   "source": [
    "train_df"
   ]
  },
  {
   "cell_type": "code",
   "execution_count": 4,
   "id": "7b4f9d9f-bfad-496e-9c3c-ba913a0a1314",
   "metadata": {
    "id": "7b4f9d9f-bfad-496e-9c3c-ba913a0a1314"
   },
   "outputs": [],
   "source": [
    "test_df = pd.read_csv(r'Google_Stock_Price_Test.csv') #Path where the CSV file is stored.\n"
   ]
  },
  {
   "cell_type": "code",
   "execution_count": 5,
   "id": "f225b658-c045-4766-aa3a-96fa6daa6077",
   "metadata": {
    "colab": {
     "base_uri": "https://localhost:8080/",
     "height": 677
    },
    "id": "f225b658-c045-4766-aa3a-96fa6daa6077",
    "outputId": "f82f808e-18b2-4e2a-c4ed-4c24ad654b09"
   },
   "outputs": [
    {
     "data": {
      "text/html": [
       "<div>\n",
       "<style scoped>\n",
       "    .dataframe tbody tr th:only-of-type {\n",
       "        vertical-align: middle;\n",
       "    }\n",
       "\n",
       "    .dataframe tbody tr th {\n",
       "        vertical-align: top;\n",
       "    }\n",
       "\n",
       "    .dataframe thead th {\n",
       "        text-align: right;\n",
       "    }\n",
       "</style>\n",
       "<table border=\"1\" class=\"dataframe\">\n",
       "  <thead>\n",
       "    <tr style=\"text-align: right;\">\n",
       "      <th></th>\n",
       "      <th>Date</th>\n",
       "      <th>Open</th>\n",
       "      <th>High</th>\n",
       "      <th>Low</th>\n",
       "      <th>Close</th>\n",
       "      <th>Volume</th>\n",
       "    </tr>\n",
       "  </thead>\n",
       "  <tbody>\n",
       "    <tr>\n",
       "      <th>0</th>\n",
       "      <td>1/3/2017</td>\n",
       "      <td>778.81</td>\n",
       "      <td>789.63</td>\n",
       "      <td>775.80</td>\n",
       "      <td>786.14</td>\n",
       "      <td>1,657,300</td>\n",
       "    </tr>\n",
       "    <tr>\n",
       "      <th>1</th>\n",
       "      <td>1/4/2017</td>\n",
       "      <td>788.36</td>\n",
       "      <td>791.34</td>\n",
       "      <td>783.16</td>\n",
       "      <td>786.90</td>\n",
       "      <td>1,073,000</td>\n",
       "    </tr>\n",
       "    <tr>\n",
       "      <th>2</th>\n",
       "      <td>1/5/2017</td>\n",
       "      <td>786.08</td>\n",
       "      <td>794.48</td>\n",
       "      <td>785.02</td>\n",
       "      <td>794.02</td>\n",
       "      <td>1,335,200</td>\n",
       "    </tr>\n",
       "    <tr>\n",
       "      <th>3</th>\n",
       "      <td>1/6/2017</td>\n",
       "      <td>795.26</td>\n",
       "      <td>807.90</td>\n",
       "      <td>792.20</td>\n",
       "      <td>806.15</td>\n",
       "      <td>1,640,200</td>\n",
       "    </tr>\n",
       "    <tr>\n",
       "      <th>4</th>\n",
       "      <td>1/9/2017</td>\n",
       "      <td>806.40</td>\n",
       "      <td>809.97</td>\n",
       "      <td>802.83</td>\n",
       "      <td>806.65</td>\n",
       "      <td>1,272,400</td>\n",
       "    </tr>\n",
       "    <tr>\n",
       "      <th>5</th>\n",
       "      <td>1/10/2017</td>\n",
       "      <td>807.86</td>\n",
       "      <td>809.13</td>\n",
       "      <td>803.51</td>\n",
       "      <td>804.79</td>\n",
       "      <td>1,176,800</td>\n",
       "    </tr>\n",
       "    <tr>\n",
       "      <th>6</th>\n",
       "      <td>1/11/2017</td>\n",
       "      <td>805.00</td>\n",
       "      <td>808.15</td>\n",
       "      <td>801.37</td>\n",
       "      <td>807.91</td>\n",
       "      <td>1,065,900</td>\n",
       "    </tr>\n",
       "    <tr>\n",
       "      <th>7</th>\n",
       "      <td>1/12/2017</td>\n",
       "      <td>807.14</td>\n",
       "      <td>807.39</td>\n",
       "      <td>799.17</td>\n",
       "      <td>806.36</td>\n",
       "      <td>1,353,100</td>\n",
       "    </tr>\n",
       "    <tr>\n",
       "      <th>8</th>\n",
       "      <td>1/13/2017</td>\n",
       "      <td>807.48</td>\n",
       "      <td>811.22</td>\n",
       "      <td>806.69</td>\n",
       "      <td>807.88</td>\n",
       "      <td>1,099,200</td>\n",
       "    </tr>\n",
       "    <tr>\n",
       "      <th>9</th>\n",
       "      <td>1/17/2017</td>\n",
       "      <td>807.08</td>\n",
       "      <td>807.14</td>\n",
       "      <td>800.37</td>\n",
       "      <td>804.61</td>\n",
       "      <td>1,362,100</td>\n",
       "    </tr>\n",
       "    <tr>\n",
       "      <th>10</th>\n",
       "      <td>1/18/2017</td>\n",
       "      <td>805.81</td>\n",
       "      <td>806.21</td>\n",
       "      <td>800.99</td>\n",
       "      <td>806.07</td>\n",
       "      <td>1,294,400</td>\n",
       "    </tr>\n",
       "    <tr>\n",
       "      <th>11</th>\n",
       "      <td>1/19/2017</td>\n",
       "      <td>805.12</td>\n",
       "      <td>809.48</td>\n",
       "      <td>801.80</td>\n",
       "      <td>802.17</td>\n",
       "      <td>919,300</td>\n",
       "    </tr>\n",
       "    <tr>\n",
       "      <th>12</th>\n",
       "      <td>1/20/2017</td>\n",
       "      <td>806.91</td>\n",
       "      <td>806.91</td>\n",
       "      <td>801.69</td>\n",
       "      <td>805.02</td>\n",
       "      <td>1,670,000</td>\n",
       "    </tr>\n",
       "    <tr>\n",
       "      <th>13</th>\n",
       "      <td>1/23/2017</td>\n",
       "      <td>807.25</td>\n",
       "      <td>820.87</td>\n",
       "      <td>803.74</td>\n",
       "      <td>819.31</td>\n",
       "      <td>1,963,600</td>\n",
       "    </tr>\n",
       "    <tr>\n",
       "      <th>14</th>\n",
       "      <td>1/24/2017</td>\n",
       "      <td>822.30</td>\n",
       "      <td>825.90</td>\n",
       "      <td>817.82</td>\n",
       "      <td>823.87</td>\n",
       "      <td>1,474,000</td>\n",
       "    </tr>\n",
       "    <tr>\n",
       "      <th>15</th>\n",
       "      <td>1/25/2017</td>\n",
       "      <td>829.62</td>\n",
       "      <td>835.77</td>\n",
       "      <td>825.06</td>\n",
       "      <td>835.67</td>\n",
       "      <td>1,494,500</td>\n",
       "    </tr>\n",
       "    <tr>\n",
       "      <th>16</th>\n",
       "      <td>1/26/2017</td>\n",
       "      <td>837.81</td>\n",
       "      <td>838.00</td>\n",
       "      <td>827.01</td>\n",
       "      <td>832.15</td>\n",
       "      <td>2,973,900</td>\n",
       "    </tr>\n",
       "    <tr>\n",
       "      <th>17</th>\n",
       "      <td>1/27/2017</td>\n",
       "      <td>834.71</td>\n",
       "      <td>841.95</td>\n",
       "      <td>820.44</td>\n",
       "      <td>823.31</td>\n",
       "      <td>2,965,800</td>\n",
       "    </tr>\n",
       "    <tr>\n",
       "      <th>18</th>\n",
       "      <td>1/30/2017</td>\n",
       "      <td>814.66</td>\n",
       "      <td>815.84</td>\n",
       "      <td>799.80</td>\n",
       "      <td>802.32</td>\n",
       "      <td>3,246,600</td>\n",
       "    </tr>\n",
       "    <tr>\n",
       "      <th>19</th>\n",
       "      <td>1/31/2017</td>\n",
       "      <td>796.86</td>\n",
       "      <td>801.25</td>\n",
       "      <td>790.52</td>\n",
       "      <td>796.79</td>\n",
       "      <td>2,160,600</td>\n",
       "    </tr>\n",
       "  </tbody>\n",
       "</table>\n",
       "</div>"
      ],
      "text/plain": [
       "         Date    Open    High     Low   Close     Volume\n",
       "0    1/3/2017  778.81  789.63  775.80  786.14  1,657,300\n",
       "1    1/4/2017  788.36  791.34  783.16  786.90  1,073,000\n",
       "2    1/5/2017  786.08  794.48  785.02  794.02  1,335,200\n",
       "3    1/6/2017  795.26  807.90  792.20  806.15  1,640,200\n",
       "4    1/9/2017  806.40  809.97  802.83  806.65  1,272,400\n",
       "5   1/10/2017  807.86  809.13  803.51  804.79  1,176,800\n",
       "6   1/11/2017  805.00  808.15  801.37  807.91  1,065,900\n",
       "7   1/12/2017  807.14  807.39  799.17  806.36  1,353,100\n",
       "8   1/13/2017  807.48  811.22  806.69  807.88  1,099,200\n",
       "9   1/17/2017  807.08  807.14  800.37  804.61  1,362,100\n",
       "10  1/18/2017  805.81  806.21  800.99  806.07  1,294,400\n",
       "11  1/19/2017  805.12  809.48  801.80  802.17    919,300\n",
       "12  1/20/2017  806.91  806.91  801.69  805.02  1,670,000\n",
       "13  1/23/2017  807.25  820.87  803.74  819.31  1,963,600\n",
       "14  1/24/2017  822.30  825.90  817.82  823.87  1,474,000\n",
       "15  1/25/2017  829.62  835.77  825.06  835.67  1,494,500\n",
       "16  1/26/2017  837.81  838.00  827.01  832.15  2,973,900\n",
       "17  1/27/2017  834.71  841.95  820.44  823.31  2,965,800\n",
       "18  1/30/2017  814.66  815.84  799.80  802.32  3,246,600\n",
       "19  1/31/2017  796.86  801.25  790.52  796.79  2,160,600"
      ]
     },
     "execution_count": 5,
     "metadata": {},
     "output_type": "execute_result"
    }
   ],
   "source": [
    " test_df\n"
   ]
  },
  {
   "cell_type": "code",
   "execution_count": 6,
   "id": "a01b2dfe-b9b2-4603-b29b-a57e5ec158da",
   "metadata": {
    "colab": {
     "base_uri": "https://localhost:8080/"
    },
    "id": "a01b2dfe-b9b2-4603-b29b-a57e5ec158da",
    "outputId": "8ce262d2-776c-440f-f910-ab4408f82fc3"
   },
   "outputs": [
    {
     "name": "stdout",
     "output_type": "stream",
     "text": [
      "<class 'pandas.core.frame.DataFrame'>\n",
      "RangeIndex: 20 entries, 0 to 19\n",
      "Data columns (total 6 columns):\n",
      " #   Column  Non-Null Count  Dtype  \n",
      "---  ------  --------------  -----  \n",
      " 0   Date    20 non-null     object \n",
      " 1   Open    20 non-null     float64\n",
      " 2   High    20 non-null     float64\n",
      " 3   Low     20 non-null     float64\n",
      " 4   Close   20 non-null     float64\n",
      " 5   Volume  20 non-null     object \n",
      "dtypes: float64(4), object(2)\n",
      "memory usage: 1.1+ KB\n"
     ]
    }
   ],
   "source": [
    "test_df.info()"
   ]
  },
  {
   "cell_type": "markdown",
   "id": "4348adfb-ca5f-4ced-b9a1-c89bdf385a4f",
   "metadata": {
    "id": "4348adfb-ca5f-4ced-b9a1-c89bdf385a4f"
   },
   "source": [
    "**Data Preprocessing**"
   ]
  },
  {
   "cell_type": "code",
   "execution_count": 7,
   "id": "6a670f43-040a-40ae-a895-06ce3c755cc7",
   "metadata": {
    "id": "6a670f43-040a-40ae-a895-06ce3c755cc7"
   },
   "outputs": [],
   "source": [
    " from sklearn.preprocessing import MinMaxScaler"
   ]
  },
  {
   "cell_type": "code",
   "execution_count": 8,
   "id": "a75d9f41-237e-4327-ad96-397c24b27944",
   "metadata": {
    "id": "a75d9f41-237e-4327-ad96-397c24b27944"
   },
   "outputs": [],
   "source": [
    " # Convert 'Close' column to string type and remove commas\n",
    "train_df['Close'] = train_df['Close'].astype(str).str.replace(',', '').astype(float)\n",
    "test_df['Close'] = test_df['Close'].astype(str).str.replace(',', '').astype(float)"
   ]
  },
  {
   "cell_type": "code",
   "execution_count": 9,
   "id": "81f2a22d-8f89-43e2-beab-c65a53384a39",
   "metadata": {
    "id": "81f2a22d-8f89-43e2-beab-c65a53384a39"
   },
   "outputs": [],
   "source": [
    "# Normalize the training and testing data separately\n",
    "train_scaler = MinMaxScaler()\n",
    "train_df['Normalized Close'] = train_scaler.fit_transform(train_df['Close'].values.reshape(-1, 1))\n",
    "test_scaler = MinMaxScaler()\n",
    "test_df['Normalized Close'] = test_scaler.fit_transform(test_df['Close'].values.reshape(-1, 1))"
   ]
  },
  {
   "cell_type": "code",
   "execution_count": 10,
   "id": "21e12a70-e93f-4f4c-9f50-d2f3d92b294e",
   "metadata": {
    "id": "21e12a70-e93f-4f4c-9f50-d2f3d92b294e"
   },
   "outputs": [],
   "source": [
    "# Convert the data to the appropriate format for RNN\n",
    "x_train = train_df['Normalized Close'].values[:-1].reshape(-1, 1, 1)\n",
    "y_train = train_df['Normalized Close'].values[1:].reshape(-1, 1, 1)\n",
    "x_test = test_df['Normalized Close'].values[:-1].reshape(-1, 1, 1)\n",
    "y_test = test_df['Normalized Close'].values[1:].reshape(-1, 1, 1)\n"
   ]
  },
  {
   "cell_type": "code",
   "execution_count": 11,
   "id": "decd8996-392d-44fe-8cb7-de1f25a42b62",
   "metadata": {
    "colab": {
     "base_uri": "https://localhost:8080/"
    },
    "id": "decd8996-392d-44fe-8cb7-de1f25a42b62",
    "outputId": "bef4291e-1d03-4eba-ac00-9d8558a7e9f1"
   },
   "outputs": [
    {
     "name": "stdout",
     "output_type": "stream",
     "text": [
      "x_train shape:  (1257, 1, 1)\n",
      "y_train shape:  (1257, 1, 1)\n",
      "x_test shape:  (19, 1, 1)\n",
      "y_test shape:  (19, 1, 1)\n"
     ]
    }
   ],
   "source": [
    "print(\"x_train shape: \",x_train.shape)\n",
    "print(\"y_train shape: \",y_train.shape)\n",
    "print(\"x_test shape: \",x_test.shape)\n",
    "print(\"y_test shape: \",y_test.shape)"
   ]
  },
  {
   "cell_type": "code",
   "execution_count": 12,
   "id": "b144f3d1-d27b-48bd-b6fc-4a31bec0c1f2",
   "metadata": {
    "colab": {
     "base_uri": "https://localhost:8080/"
    },
    "id": "b144f3d1-d27b-48bd-b6fc-4a31bec0c1f2",
    "outputId": "9b95acef-0495-4f79-82ae-d43d6edbf2df"
   },
   "outputs": [
    {
     "name": "stdout",
     "output_type": "stream",
     "text": [
      "<class 'pandas.core.frame.DataFrame'>\n",
      "RangeIndex: 20 entries, 0 to 19\n",
      "Data columns (total 7 columns):\n",
      " #   Column            Non-Null Count  Dtype  \n",
      "---  ------            --------------  -----  \n",
      " 0   Date              20 non-null     object \n",
      " 1   Open              20 non-null     float64\n",
      " 2   High              20 non-null     float64\n",
      " 3   Low               20 non-null     float64\n",
      " 4   Close             20 non-null     float64\n",
      " 5   Volume            20 non-null     object \n",
      " 6   Normalized Close  20 non-null     float64\n",
      "dtypes: float64(5), object(2)\n",
      "memory usage: 1.2+ KB\n"
     ]
    }
   ],
   "source": [
    "test_df.info()"
   ]
  },
  {
   "cell_type": "markdown",
   "id": "0b206b4f-5f7a-484f-9482-63ae376cc4b7",
   "metadata": {
    "id": "0b206b4f-5f7a-484f-9482-63ae376cc4b7"
   },
   "source": [
    "**Building our Model**"
   ]
  },
  {
   "cell_type": "code",
   "execution_count": 13,
   "id": "f1a9fb14-29bd-4ab5-a1b2-394a1c1c5809",
   "metadata": {
    "id": "f1a9fb14-29bd-4ab5-a1b2-394a1c1c5809"
   },
   "outputs": [],
   "source": [
    " from keras.models import Sequential\n",
    "from keras.layers import LSTM, Dense"
   ]
  },
  {
   "cell_type": "code",
   "execution_count": 14,
   "id": "0edb2a50-0626-468a-ad5c-24fb802a0741",
   "metadata": {
    "colab": {
     "base_uri": "https://localhost:8080/"
    },
    "id": "0edb2a50-0626-468a-ad5c-24fb802a0741",
    "outputId": "fc754b11-08e7-4c34-e618-c0e9fc64bd0c"
   },
   "outputs": [
    {
     "name": "stdout",
     "output_type": "stream",
     "text": [
      "Model: \"sequential\"\n",
      "_________________________________________________________________\n",
      " Layer (type)                Output Shape              Param #   \n",
      "=================================================================\n",
      " lstm (LSTM)                 (None, 4)                 96        \n",
      "                                                                 \n",
      " dense (Dense)               (None, 1)                 5         \n",
      "                                                                 \n",
      "=================================================================\n",
      "Total params: 101 (404.00 Byte)\n",
      "Trainable params: 101 (404.00 Byte)\n",
      "Non-trainable params: 0 (0.00 Byte)\n",
      "_________________________________________________________________\n"
     ]
    }
   ],
   "source": [
    "model = Sequential()\n",
    "model.add(LSTM(4, input_shape=(1, 1)))\n",
    "model.add(Dense(1))\n",
    "model.compile(loss='mean_squared_error', optimizer='adam')\n",
    "model.summary()"
   ]
  },
  {
   "cell_type": "markdown",
   "id": "221e8044-34b0-4c08-b9e2-4ff0aff11c4b",
   "metadata": {
    "id": "221e8044-34b0-4c08-b9e2-4ff0aff11c4b"
   },
   "source": [
    "**Building our Model**y()\n"
   ]
  },
  {
   "cell_type": "code",
   "execution_count": 15,
   "id": "18b2b3fa-551e-4c4c-b47f-38ac1579d3df",
   "metadata": {
    "colab": {
     "base_uri": "https://localhost:8080/"
    },
    "id": "18b2b3fa-551e-4c4c-b47f-38ac1579d3df",
    "outputId": "062c9524-8644-46a3-8a00-02b90e62ed10"
   },
   "outputs": [
    {
     "name": "stdout",
     "output_type": "stream",
     "text": [
      "Epoch 1/50\n",
      "1257/1257 [==============================] - 8s 3ms/step - loss: 0.0298\n",
      "Epoch 2/50\n",
      "1257/1257 [==============================] - 5s 4ms/step - loss: 0.0017\n",
      "Epoch 3/50\n",
      "1257/1257 [==============================] - 5s 4ms/step - loss: 7.8782e-04\n",
      "Epoch 4/50\n",
      "1257/1257 [==============================] - 5s 4ms/step - loss: 7.8006e-04\n",
      "Epoch 5/50\n",
      "1257/1257 [==============================] - 5s 4ms/step - loss: 7.7179e-04\n",
      "Epoch 6/50\n",
      "1257/1257 [==============================] - 4s 3ms/step - loss: 7.6286e-04\n",
      "Epoch 7/50\n",
      "1257/1257 [==============================] - 4s 3ms/step - loss: 7.3187e-04\n",
      "Epoch 8/50\n",
      "1257/1257 [==============================] - 4s 3ms/step - loss: 7.9598e-04\n",
      "Epoch 9/50\n",
      "1257/1257 [==============================] - 5s 4ms/step - loss: 7.5533e-04\n",
      "Epoch 10/50\n",
      "1257/1257 [==============================] - 5s 4ms/step - loss: 7.6821e-04\n",
      "Epoch 11/50\n",
      "1257/1257 [==============================] - 7s 5ms/step - loss: 7.6661e-04\n",
      "Epoch 12/50\n",
      "1257/1257 [==============================] - 7s 6ms/step - loss: 7.5351e-04\n",
      "Epoch 13/50\n",
      "1257/1257 [==============================] - 6s 5ms/step - loss: 7.6217e-04\n",
      "Epoch 14/50\n",
      "1257/1257 [==============================] - 5s 4ms/step - loss: 7.6177e-04\n",
      "Epoch 15/50\n",
      "1257/1257 [==============================] - 4s 3ms/step - loss: 7.6455e-04\n",
      "Epoch 16/50\n",
      "1257/1257 [==============================] - 4s 3ms/step - loss: 7.6699e-04\n",
      "Epoch 17/50\n",
      "1257/1257 [==============================] - 4s 3ms/step - loss: 7.5326e-04\n",
      "Epoch 18/50\n",
      "1257/1257 [==============================] - 4s 3ms/step - loss: 7.5828e-04\n",
      "Epoch 19/50\n",
      "1257/1257 [==============================] - 4s 4ms/step - loss: 7.6174e-04\n",
      "Epoch 20/50\n",
      "1257/1257 [==============================] - 4s 3ms/step - loss: 7.4364e-04\n",
      "Epoch 21/50\n",
      "1257/1257 [==============================] - 4s 3ms/step - loss: 7.6136e-04\n",
      "Epoch 22/50\n",
      "1257/1257 [==============================] - 4s 3ms/step - loss: 7.5028e-04\n",
      "Epoch 23/50\n",
      "1257/1257 [==============================] - 4s 3ms/step - loss: 7.5659e-04\n",
      "Epoch 24/50\n",
      "1257/1257 [==============================] - 4s 3ms/step - loss: 7.6261e-04\n",
      "Epoch 25/50\n",
      "1257/1257 [==============================] - 4s 3ms/step - loss: 7.5529e-04\n",
      "Epoch 26/50\n",
      "1257/1257 [==============================] - 4s 3ms/step - loss: 7.5488e-04\n",
      "Epoch 27/50\n",
      "1257/1257 [==============================] - 4s 3ms/step - loss: 7.5344e-04\n",
      "Epoch 28/50\n",
      "1257/1257 [==============================] - 4s 3ms/step - loss: 7.5834e-04\n",
      "Epoch 29/50\n",
      "1257/1257 [==============================] - 4s 3ms/step - loss: 7.4580e-04\n",
      "Epoch 30/50\n",
      "1257/1257 [==============================] - 5s 4ms/step - loss: 7.5029e-04\n",
      "Epoch 31/50\n",
      "1257/1257 [==============================] - 6s 4ms/step - loss: 7.5344e-04\n",
      "Epoch 32/50\n",
      "1257/1257 [==============================] - 5s 4ms/step - loss: 7.6388e-04\n",
      "Epoch 33/50\n",
      "1257/1257 [==============================] - 4s 3ms/step - loss: 7.6128e-04\n",
      "Epoch 34/50\n",
      "1257/1257 [==============================] - 5s 4ms/step - loss: 7.5492e-04\n",
      "Epoch 35/50\n",
      "1257/1257 [==============================] - 5s 4ms/step - loss: 7.5170e-04\n",
      "Epoch 36/50\n",
      "1257/1257 [==============================] - 4s 3ms/step - loss: 7.4593e-04\n",
      "Epoch 37/50\n",
      "1257/1257 [==============================] - 4s 3ms/step - loss: 7.6327e-04\n",
      "Epoch 38/50\n",
      "1257/1257 [==============================] - 5s 4ms/step - loss: 7.5122e-04\n",
      "Epoch 39/50\n",
      "1257/1257 [==============================] - 4s 4ms/step - loss: 7.5602e-04\n",
      "Epoch 40/50\n",
      "1257/1257 [==============================] - 4s 3ms/step - loss: 7.5143e-04\n",
      "Epoch 41/50\n",
      "1257/1257 [==============================] - 5s 4ms/step - loss: 7.6408e-04\n",
      "Epoch 42/50\n",
      "1257/1257 [==============================] - 5s 4ms/step - loss: 7.6070e-04\n",
      "Epoch 43/50\n",
      "1257/1257 [==============================] - 4s 3ms/step - loss: 7.4816e-04\n",
      "Epoch 44/50\n",
      "1257/1257 [==============================] - 5s 4ms/step - loss: 7.4802e-04\n",
      "Epoch 45/50\n",
      "1257/1257 [==============================] - 5s 4ms/step - loss: 7.5305e-04\n",
      "Epoch 46/50\n",
      "1257/1257 [==============================] - 5s 4ms/step - loss: 7.4987e-04\n",
      "Epoch 47/50\n",
      "1257/1257 [==============================] - 7s 5ms/step - loss: 7.5274e-04\n",
      "Epoch 48/50\n",
      "1257/1257 [==============================] - 7s 5ms/step - loss: 7.6327e-04\n",
      "Epoch 49/50\n",
      "1257/1257 [==============================] - 6s 4ms/step - loss: 7.5987e-04\n",
      "Epoch 50/50\n",
      "1257/1257 [==============================] - 6s 5ms/step - loss: 7.4132e-04\n"
     ]
    },
    {
     "data": {
      "text/plain": [
       "<keras.src.callbacks.History at 0x20f305d9a90>"
      ]
     },
     "execution_count": 15,
     "metadata": {},
     "output_type": "execute_result"
    }
   ],
   "source": [
    "model.fit(x_train, y_train, epochs=50, batch_size=1, verbose=1)"
   ]
  },
  {
   "cell_type": "markdown",
   "id": "1964dded-329d-48c5-8ebf-21d41f097e81",
   "metadata": {
    "id": "1964dded-329d-48c5-8ebf-21d41f097e81"
   },
   "source": [
    "**Evaluating our Model**"
   ]
  },
  {
   "cell_type": "code",
   "execution_count": 16,
   "id": "9ec43d47-2798-42f6-80b6-c84bb1e3fa1e",
   "metadata": {
    "colab": {
     "base_uri": "https://localhost:8080/"
    },
    "id": "9ec43d47-2798-42f6-80b6-c84bb1e3fa1e",
    "outputId": "fbeb29e9-3337-47c8-bd9a-adfc628c5ae2"
   },
   "outputs": [
    {
     "name": "stdout",
     "output_type": "stream",
     "text": [
      "1/1 [==============================] - 2s 2s/step - loss: 0.0249\n",
      "Testing loss:  0.024899862706661224\n"
     ]
    }
   ],
   "source": [
    "test_loss = model.evaluate(x_test, y_test)\n",
    "print('Testing loss: ', test_loss)"
   ]
  },
  {
   "cell_type": "markdown",
   "id": "57267ce2-3423-4100-b231-4adedb5db52f",
   "metadata": {
    "id": "57267ce2-3423-4100-b231-4adedb5db52f"
   },
   "source": [
    "**Testing our Model**"
   ]
  },
  {
   "cell_type": "code",
   "execution_count": 17,
   "id": "c9431fe0-ca44-42da-a529-452b7a136b7a",
   "metadata": {
    "colab": {
     "base_uri": "https://localhost:8080/"
    },
    "id": "c9431fe0-ca44-42da-a529-452b7a136b7a",
    "outputId": "15bf9ce2-9d9b-4e85-87f8-3dbdf36cd897"
   },
   "outputs": [
    {
     "name": "stdout",
     "output_type": "stream",
     "text": [
      "1/1 [==============================] - 2s 2s/step\n"
     ]
    }
   ],
   "source": [
    "y_pred = model.predict(x_test)"
   ]
  },
  {
   "cell_type": "code",
   "execution_count": 18,
   "id": "a711de8b-a982-4327-857e-9ba377367e03",
   "metadata": {
    "id": "a711de8b-a982-4327-857e-9ba377367e03"
   },
   "outputs": [],
   "source": [
    "# Inverse transform the normalized values to get the actual values\n",
    "y_test_actual = test_scaler.inverse_transform(y_test.reshape(-1, 1))\n",
    "y_pred_actual = test_scaler.inverse_transform(y_pred.reshape(-1, 1))"
   ]
  },
  {
   "cell_type": "code",
   "execution_count": 19,
   "id": "8ed78a6a-6626-4055-b383-6f7b090f4b25",
   "metadata": {
    "id": "8ed78a6a-6626-4055-b383-6f7b090f4b25"
   },
   "outputs": [],
   "source": [
    "i=1"
   ]
  },
  {
   "cell_type": "code",
   "execution_count": 20,
   "id": "2faa390c-a071-4e5a-8a31-10ec0ebc7836",
   "metadata": {
    "colab": {
     "base_uri": "https://localhost:8080/"
    },
    "id": "2faa390c-a071-4e5a-8a31-10ec0ebc7836",
    "outputId": "c7f49e26-8f10-4ab4-a9a5-cae1c8e71777"
   },
   "outputs": [
    {
     "name": "stdout",
     "output_type": "stream",
     "text": [
      "Actual value: 794.02\n",
      "Predicted value: 787.43\n"
     ]
    }
   ],
   "source": [
    "print(\"Actual value: {:.2f}\".format(y_test_actual[i][0]))\n",
    "print(\"Predicted value: {:.2f}\".format(y_pred_actual[i][0]))"
   ]
  }
 ],
 "metadata": {
  "colab": {
   "provenance": []
  },
  "kernelspec": {
   "display_name": "Python 3 (ipykernel)",
   "language": "python",
   "name": "python3"
  },
  "language_info": {
   "codemirror_mode": {
    "name": "ipython",
    "version": 3
   },
   "file_extension": ".py",
   "mimetype": "text/x-python",
   "name": "python",
   "nbconvert_exporter": "python",
   "pygments_lexer": "ipython3",
   "version": "3.9.18"
  }
 },
 "nbformat": 4,
 "nbformat_minor": 5
}
